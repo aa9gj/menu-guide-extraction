# Load necessary packages
from rdflib import Graph
import rdflib
import csv
from rdflib import BNode, URIRef, Namespace
from rdflib.namespace import RDF, RDFS, OWL, SKOS, DC
from rdflib.term import URIRef

